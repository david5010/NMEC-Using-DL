{
 "cells": [
  {
   "cell_type": "code",
   "execution_count": 1,
   "metadata": {},
   "outputs": [
    {
     "name": "stdout",
     "output_type": "stream",
     "text": [
      "/home/david/Desktop/NMEC-Using-DL\n"
     ]
    },
    {
     "name": "stderr",
     "output_type": "stream",
     "text": [
      "/home/david/anaconda3/envs/nmec/lib/python3.9/site-packages/IPython/core/magics/osm.py:417: UserWarning: using dhist requires you to install the `pickleshare` library.\n",
      "  self.shell.db['dhist'] = compress_dhist(dhist)[-100:]\n"
     ]
    }
   ],
   "source": [
    "%cd .."
   ]
  },
  {
   "cell_type": "markdown",
   "metadata": {},
   "source": [
    "## Setup"
   ]
  },
  {
   "cell_type": "code",
   "execution_count": 19,
   "metadata": {},
   "outputs": [],
   "source": [
    "import pandas as pd\n",
    "import eemeter"
   ]
  },
  {
   "cell_type": "code",
   "execution_count": 6,
   "metadata": {},
   "outputs": [],
   "source": [
    "aust_meter = pd.read_csv('data/program_baseline_daily/opt_prog_mean.csv')\n",
    "aust_meter['datetime'] = pd.to_datetime(aust_meter['datetime'])"
   ]
  },
  {
   "cell_type": "code",
   "execution_count": 8,
   "metadata": {},
   "outputs": [],
   "source": [
    "aust_weather = pd.read_csv('data/weather/austin_weather_2018.csv', skiprows = list(range(3)))\n",
    "aust_weather['time'] = pd.to_datetime(aust_weather['time'])"
   ]
  },
  {
   "cell_type": "code",
   "execution_count": 13,
   "metadata": {},
   "outputs": [],
   "source": [
    "aust_temp = aust_weather.iloc[:, :2]\n",
    "temp = pd.Series(data = aust_temp.iloc[:, 1].values, index = aust_temp.iloc[:, 0])"
   ]
  },
  {
   "cell_type": "code",
   "execution_count": 17,
   "metadata": {},
   "outputs": [],
   "source": [
    "aust_base = aust_meter[['datetime', 'total']]\n",
    "aust_base.set_index('datetime', inplace=True)"
   ]
  },
  {
   "cell_type": "code",
   "execution_count": 18,
   "metadata": {},
   "outputs": [
    {
     "data": {
      "text/html": [
       "<div>\n",
       "<style scoped>\n",
       "    .dataframe tbody tr th:only-of-type {\n",
       "        vertical-align: middle;\n",
       "    }\n",
       "\n",
       "    .dataframe tbody tr th {\n",
       "        vertical-align: top;\n",
       "    }\n",
       "\n",
       "    .dataframe thead th {\n",
       "        text-align: right;\n",
       "    }\n",
       "</style>\n",
       "<table border=\"1\" class=\"dataframe\">\n",
       "  <thead>\n",
       "    <tr style=\"text-align: right;\">\n",
       "      <th></th>\n",
       "      <th>total</th>\n",
       "    </tr>\n",
       "    <tr>\n",
       "      <th>datetime</th>\n",
       "      <th></th>\n",
       "    </tr>\n",
       "  </thead>\n",
       "  <tbody>\n",
       "    <tr>\n",
       "      <th>2018-01-01 01:00:00</th>\n",
       "      <td>988.799667</td>\n",
       "    </tr>\n",
       "    <tr>\n",
       "      <th>2018-01-01 02:00:00</th>\n",
       "      <td>995.235455</td>\n",
       "    </tr>\n",
       "    <tr>\n",
       "      <th>2018-01-01 03:00:00</th>\n",
       "      <td>994.605636</td>\n",
       "    </tr>\n",
       "    <tr>\n",
       "      <th>2018-01-01 04:00:00</th>\n",
       "      <td>991.943364</td>\n",
       "    </tr>\n",
       "    <tr>\n",
       "      <th>2018-01-01 05:00:00</th>\n",
       "      <td>990.067909</td>\n",
       "    </tr>\n",
       "    <tr>\n",
       "      <th>...</th>\n",
       "      <td>...</td>\n",
       "    </tr>\n",
       "    <tr>\n",
       "      <th>2018-12-31 19:00:00</th>\n",
       "      <td>988.602455</td>\n",
       "    </tr>\n",
       "    <tr>\n",
       "      <th>2018-12-31 20:00:00</th>\n",
       "      <td>989.393818</td>\n",
       "    </tr>\n",
       "    <tr>\n",
       "      <th>2018-12-31 21:00:00</th>\n",
       "      <td>987.984000</td>\n",
       "    </tr>\n",
       "    <tr>\n",
       "      <th>2018-12-31 22:00:00</th>\n",
       "      <td>987.649091</td>\n",
       "    </tr>\n",
       "    <tr>\n",
       "      <th>2018-12-31 23:00:00</th>\n",
       "      <td>986.257091</td>\n",
       "    </tr>\n",
       "  </tbody>\n",
       "</table>\n",
       "<p>8752 rows × 1 columns</p>\n",
       "</div>"
      ],
      "text/plain": [
       "                          total\n",
       "datetime                       \n",
       "2018-01-01 01:00:00  988.799667\n",
       "2018-01-01 02:00:00  995.235455\n",
       "2018-01-01 03:00:00  994.605636\n",
       "2018-01-01 04:00:00  991.943364\n",
       "2018-01-01 05:00:00  990.067909\n",
       "...                         ...\n",
       "2018-12-31 19:00:00  988.602455\n",
       "2018-12-31 20:00:00  989.393818\n",
       "2018-12-31 21:00:00  987.984000\n",
       "2018-12-31 22:00:00  987.649091\n",
       "2018-12-31 23:00:00  986.257091\n",
       "\n",
       "[8752 rows x 1 columns]"
      ]
     },
     "execution_count": 18,
     "metadata": {},
     "output_type": "execute_result"
    }
   ],
   "source": [
    "aust_base"
   ]
  },
  {
   "cell_type": "code",
   "execution_count": 20,
   "metadata": {},
   "outputs": [],
   "source": [
    "meter_data, temperature_data, sample_metadata = (\n",
    "    eemeter.load_sample(\"il-electricity-cdd-hdd-hourly\")\n",
    ")\n"
   ]
  },
  {
   "cell_type": "code",
   "execution_count": 29,
   "metadata": {},
   "outputs": [
    {
     "ename": "NonExistentTimeError",
     "evalue": "2018-03-11 02:00:00",
     "output_type": "error",
     "traceback": [
      "\u001b[0;31m---------------------------------------------------------------------------\u001b[0m",
      "\u001b[0;31mNonExistentTimeError\u001b[0m                      Traceback (most recent call last)",
      "\u001b[1;32m/home/david/Desktop/NMEC-Using-DL/notebooks/eemeter_aust.ipynb Cell 9\u001b[0m line \u001b[0;36m1\n\u001b[0;32m----> <a href='vscode-notebook-cell:/home/david/Desktop/NMEC-Using-DL/notebooks/eemeter_aust.ipynb#X14sZmlsZQ%3D%3D?line=0'>1</a>\u001b[0m temp\u001b[39m.\u001b[39;49mtz_localize(\u001b[39m'\u001b[39;49m\u001b[39mAmerica/Chicago\u001b[39;49m\u001b[39m'\u001b[39;49m)\n",
      "File \u001b[0;32m~/anaconda3/envs/nmec/lib/python3.9/site-packages/pandas/core/generic.py:11293\u001b[0m, in \u001b[0;36mNDFrame.tz_localize\u001b[0;34m(self, tz, axis, level, copy, ambiguous, nonexistent)\u001b[0m\n\u001b[1;32m  11291\u001b[0m     \u001b[39mif\u001b[39;00m level \u001b[39mnot\u001b[39;00m \u001b[39min\u001b[39;00m (\u001b[39mNone\u001b[39;00m, \u001b[39m0\u001b[39m, ax\u001b[39m.\u001b[39mname):\n\u001b[1;32m  11292\u001b[0m         \u001b[39mraise\u001b[39;00m \u001b[39mValueError\u001b[39;00m(\u001b[39mf\u001b[39m\u001b[39m\"\u001b[39m\u001b[39mThe level \u001b[39m\u001b[39m{\u001b[39;00mlevel\u001b[39m}\u001b[39;00m\u001b[39m is not valid\u001b[39m\u001b[39m\"\u001b[39m)\n\u001b[0;32m> 11293\u001b[0m     ax \u001b[39m=\u001b[39m _tz_localize(ax, tz, ambiguous, nonexistent)\n\u001b[1;32m  11295\u001b[0m result \u001b[39m=\u001b[39m \u001b[39mself\u001b[39m\u001b[39m.\u001b[39mcopy(deep\u001b[39m=\u001b[39mcopy \u001b[39mand\u001b[39;00m \u001b[39mnot\u001b[39;00m using_copy_on_write())\n\u001b[1;32m  11296\u001b[0m result \u001b[39m=\u001b[39m result\u001b[39m.\u001b[39mset_axis(ax, axis\u001b[39m=\u001b[39maxis, copy\u001b[39m=\u001b[39m\u001b[39mFalse\u001b[39;00m)\n",
      "File \u001b[0;32m~/anaconda3/envs/nmec/lib/python3.9/site-packages/pandas/core/generic.py:11281\u001b[0m, in \u001b[0;36mNDFrame.tz_localize.<locals>._tz_localize\u001b[0;34m(ax, tz, ambiguous, nonexistent)\u001b[0m\n\u001b[1;32m  11279\u001b[0m     ax \u001b[39m=\u001b[39m DatetimeIndex([], tz\u001b[39m=\u001b[39mtz)\n\u001b[1;32m  11280\u001b[0m \u001b[39melse\u001b[39;00m:\n\u001b[0;32m> 11281\u001b[0m     ax \u001b[39m=\u001b[39m ax\u001b[39m.\u001b[39;49mtz_localize(tz, ambiguous\u001b[39m=\u001b[39;49mambiguous, nonexistent\u001b[39m=\u001b[39;49mnonexistent)\n\u001b[1;32m  11282\u001b[0m \u001b[39mreturn\u001b[39;00m ax\n",
      "File \u001b[0;32m~/anaconda3/envs/nmec/lib/python3.9/site-packages/pandas/core/indexes/datetimes.py:291\u001b[0m, in \u001b[0;36mDatetimeIndex.tz_localize\u001b[0;34m(self, tz, ambiguous, nonexistent)\u001b[0m\n\u001b[1;32m    284\u001b[0m \u001b[39m@doc\u001b[39m(DatetimeArray\u001b[39m.\u001b[39mtz_localize)\n\u001b[1;32m    285\u001b[0m \u001b[39mdef\u001b[39;00m \u001b[39mtz_localize\u001b[39m(\n\u001b[1;32m    286\u001b[0m     \u001b[39mself\u001b[39m,\n\u001b[0;32m   (...)\u001b[0m\n\u001b[1;32m    289\u001b[0m     nonexistent: TimeNonexistent \u001b[39m=\u001b[39m \u001b[39m\"\u001b[39m\u001b[39mraise\u001b[39m\u001b[39m\"\u001b[39m,\n\u001b[1;32m    290\u001b[0m ) \u001b[39m-\u001b[39m\u001b[39m>\u001b[39m Self:\n\u001b[0;32m--> 291\u001b[0m     arr \u001b[39m=\u001b[39m \u001b[39mself\u001b[39;49m\u001b[39m.\u001b[39;49m_data\u001b[39m.\u001b[39;49mtz_localize(tz, ambiguous, nonexistent)\n\u001b[1;32m    292\u001b[0m     \u001b[39mreturn\u001b[39;00m \u001b[39mtype\u001b[39m(\u001b[39mself\u001b[39m)\u001b[39m.\u001b[39m_simple_new(arr, name\u001b[39m=\u001b[39m\u001b[39mself\u001b[39m\u001b[39m.\u001b[39mname)\n",
      "File \u001b[0;32m~/anaconda3/envs/nmec/lib/python3.9/site-packages/pandas/core/arrays/_mixins.py:80\u001b[0m, in \u001b[0;36mravel_compat.<locals>.method\u001b[0;34m(self, *args, **kwargs)\u001b[0m\n\u001b[1;32m     77\u001b[0m \u001b[39m@wraps\u001b[39m(meth)\n\u001b[1;32m     78\u001b[0m \u001b[39mdef\u001b[39;00m \u001b[39mmethod\u001b[39m(\u001b[39mself\u001b[39m, \u001b[39m*\u001b[39margs, \u001b[39m*\u001b[39m\u001b[39m*\u001b[39mkwargs):\n\u001b[1;32m     79\u001b[0m     \u001b[39mif\u001b[39;00m \u001b[39mself\u001b[39m\u001b[39m.\u001b[39mndim \u001b[39m==\u001b[39m \u001b[39m1\u001b[39m:\n\u001b[0;32m---> 80\u001b[0m         \u001b[39mreturn\u001b[39;00m meth(\u001b[39mself\u001b[39;49m, \u001b[39m*\u001b[39;49margs, \u001b[39m*\u001b[39;49m\u001b[39m*\u001b[39;49mkwargs)\n\u001b[1;32m     82\u001b[0m     flags \u001b[39m=\u001b[39m \u001b[39mself\u001b[39m\u001b[39m.\u001b[39m_ndarray\u001b[39m.\u001b[39mflags\n\u001b[1;32m     83\u001b[0m     flat \u001b[39m=\u001b[39m \u001b[39mself\u001b[39m\u001b[39m.\u001b[39mravel(\u001b[39m\"\u001b[39m\u001b[39mK\u001b[39m\u001b[39m\"\u001b[39m)\n",
      "File \u001b[0;32m~/anaconda3/envs/nmec/lib/python3.9/site-packages/pandas/core/arrays/datetimes.py:1066\u001b[0m, in \u001b[0;36mDatetimeArray.tz_localize\u001b[0;34m(self, tz, ambiguous, nonexistent)\u001b[0m\n\u001b[1;32m   1063\u001b[0m     tz \u001b[39m=\u001b[39m timezones\u001b[39m.\u001b[39mmaybe_get_tz(tz)\n\u001b[1;32m   1064\u001b[0m     \u001b[39m# Convert to UTC\u001b[39;00m\n\u001b[0;32m-> 1066\u001b[0m     new_dates \u001b[39m=\u001b[39m tzconversion\u001b[39m.\u001b[39;49mtz_localize_to_utc(\n\u001b[1;32m   1067\u001b[0m         \u001b[39mself\u001b[39;49m\u001b[39m.\u001b[39;49masi8,\n\u001b[1;32m   1068\u001b[0m         tz,\n\u001b[1;32m   1069\u001b[0m         ambiguous\u001b[39m=\u001b[39;49mambiguous,\n\u001b[1;32m   1070\u001b[0m         nonexistent\u001b[39m=\u001b[39;49mnonexistent,\n\u001b[1;32m   1071\u001b[0m         creso\u001b[39m=\u001b[39;49m\u001b[39mself\u001b[39;49m\u001b[39m.\u001b[39;49m_creso,\n\u001b[1;32m   1072\u001b[0m     )\n\u001b[1;32m   1073\u001b[0m new_dates_dt64 \u001b[39m=\u001b[39m new_dates\u001b[39m.\u001b[39mview(\u001b[39mf\u001b[39m\u001b[39m\"\u001b[39m\u001b[39mM8[\u001b[39m\u001b[39m{\u001b[39;00m\u001b[39mself\u001b[39m\u001b[39m.\u001b[39munit\u001b[39m}\u001b[39;00m\u001b[39m]\u001b[39m\u001b[39m\"\u001b[39m)\n\u001b[1;32m   1074\u001b[0m dtype \u001b[39m=\u001b[39m tz_to_dtype(tz, unit\u001b[39m=\u001b[39m\u001b[39mself\u001b[39m\u001b[39m.\u001b[39munit)\n",
      "File \u001b[0;32mtzconversion.pyx:426\u001b[0m, in \u001b[0;36mpandas._libs.tslibs.tzconversion.tz_localize_to_utc\u001b[0;34m()\u001b[0m\n",
      "\u001b[0;31mNonExistentTimeError\u001b[0m: 2018-03-11 02:00:00"
     ]
    }
   ],
   "source": [
    "temp.tz_localize('America/Chicago')"
   ]
  },
  {
   "cell_type": "code",
   "execution_count": 28,
   "metadata": {},
   "outputs": [
    {
     "name": "stdout",
     "output_type": "stream",
     "text": [
      "<class 'pandas.core.series.Series'>\n",
      "DatetimeIndex: 8760 entries, 2018-01-01 00:00:00 to 2018-12-31 23:00:00\n",
      "Freq: H\n",
      "Series name: None\n",
      "Non-Null Count  Dtype  \n",
      "--------------  -----  \n",
      "8760 non-null   float64\n",
      "dtypes: float64(1)\n",
      "memory usage: 136.9 KB\n"
     ]
    }
   ],
   "source": [
    "temp.info()"
   ]
  },
  {
   "cell_type": "code",
   "execution_count": 22,
   "metadata": {},
   "outputs": [
    {
     "name": "stdout",
     "output_type": "stream",
     "text": [
      "<class 'pandas.core.series.Series'>\n",
      "DatetimeIndex: 19417 entries, 2015-11-22 06:00:00+00:00 to 2018-02-08 06:00:00+00:00\n",
      "Freq: H\n",
      "Series name: tempF\n",
      "Non-Null Count  Dtype  \n",
      "--------------  -----  \n",
      "19417 non-null  float64\n",
      "dtypes: float64(1)\n",
      "memory usage: 303.4 KB\n"
     ]
    }
   ],
   "source": [
    "temperature_data.info()"
   ]
  },
  {
   "cell_type": "code",
   "execution_count": 32,
   "metadata": {},
   "outputs": [],
   "source": [
    "import datetime\n",
    "import pytz\n",
    "\n",
    "austin_tz = pytz.timezone('America/Chicago')\n",
    "austin_time = datetime.datetime(2018, 12, 31, 23, 0, 0, tzinfo=austin_tz)\n"
   ]
  },
  {
   "cell_type": "code",
   "execution_count": 40,
   "metadata": {},
   "outputs": [],
   "source": [
    "aust_base.index = aust_base.index.tz_localize('America/Chicago', ambiguous=False)"
   ]
  },
  {
   "cell_type": "code",
   "execution_count": 45,
   "metadata": {},
   "outputs": [],
   "source": [
    "aust_base = aust_base.asfreq('H')"
   ]
  },
  {
   "cell_type": "code",
   "execution_count": 49,
   "metadata": {},
   "outputs": [],
   "source": [
    "aust_base = aust_base.rename(columns = {'total': 'value'})"
   ]
  },
  {
   "cell_type": "markdown",
   "metadata": {},
   "source": [
    "## EEmeter"
   ]
  },
  {
   "cell_type": "code",
   "execution_count": 99,
   "metadata": {},
   "outputs": [],
   "source": [
    "temp = temp.tz_localize('America/Chicago', ambiguous='NaT', nonexistent='NaT')"
   ]
  },
  {
   "cell_type": "code",
   "execution_count": 104,
   "metadata": {},
   "outputs": [],
   "source": [
    "temp = temp[~temp.index.duplicated(keep='first')]\n",
    "temp = temp.asfreq('H')\n"
   ]
  },
  {
   "cell_type": "code",
   "execution_count": 105,
   "metadata": {},
   "outputs": [],
   "source": [
    "# get meter data suitable for fitting a baseline model\n",
    "baseline_meter_data, warnings = eemeter.get_baseline_data(\n",
    "    aust_base, end=austin_time, max_days=365\n",
    ")"
   ]
  },
  {
   "cell_type": "code",
   "execution_count": 106,
   "metadata": {},
   "outputs": [],
   "source": [
    "preliminary_design_matrix = (\n",
    "    eemeter.create_caltrack_hourly_preliminary_design_matrix(\n",
    "        baseline_meter_data, temp, degc=True\n",
    "    )\n",
    ")"
   ]
  },
  {
   "cell_type": "code",
   "execution_count": 107,
   "metadata": {},
   "outputs": [],
   "source": [
    "segmentation = eemeter.segment_time_series(\n",
    "    preliminary_design_matrix.index,\n",
    "    'three_month_weighted',\n",
    ")"
   ]
  },
  {
   "cell_type": "code",
   "execution_count": 108,
   "metadata": {},
   "outputs": [
    {
     "name": "stderr",
     "output_type": "stream",
     "text": [
      "/home/david/anaconda3/envs/nmec/lib/python3.9/site-packages/eemeter/features.py:576: FutureWarning: The default of observed=False is deprecated and will be changed to True in a future version of pandas. Pass observed=False to retain current behavior or observed=True to adopt the future default and silence this warning.\n",
      "  model_data_with_residuals.groupby([\"hour_of_week\"])\n",
      "/home/david/anaconda3/envs/nmec/lib/python3.9/site-packages/eemeter/features.py:576: FutureWarning: The default of observed=False is deprecated and will be changed to True in a future version of pandas. Pass observed=False to retain current behavior or observed=True to adopt the future default and silence this warning.\n",
      "  model_data_with_residuals.groupby([\"hour_of_week\"])\n",
      "/home/david/anaconda3/envs/nmec/lib/python3.9/site-packages/eemeter/features.py:576: FutureWarning: The default of observed=False is deprecated and will be changed to True in a future version of pandas. Pass observed=False to retain current behavior or observed=True to adopt the future default and silence this warning.\n",
      "  model_data_with_residuals.groupby([\"hour_of_week\"])\n",
      "/home/david/anaconda3/envs/nmec/lib/python3.9/site-packages/eemeter/features.py:576: FutureWarning: The default of observed=False is deprecated and will be changed to True in a future version of pandas. Pass observed=False to retain current behavior or observed=True to adopt the future default and silence this warning.\n",
      "  model_data_with_residuals.groupby([\"hour_of_week\"])\n",
      "/home/david/anaconda3/envs/nmec/lib/python3.9/site-packages/eemeter/features.py:576: FutureWarning: The default of observed=False is deprecated and will be changed to True in a future version of pandas. Pass observed=False to retain current behavior or observed=True to adopt the future default and silence this warning.\n",
      "  model_data_with_residuals.groupby([\"hour_of_week\"])\n",
      "/home/david/anaconda3/envs/nmec/lib/python3.9/site-packages/eemeter/features.py:576: FutureWarning: The default of observed=False is deprecated and will be changed to True in a future version of pandas. Pass observed=False to retain current behavior or observed=True to adopt the future default and silence this warning.\n",
      "  model_data_with_residuals.groupby([\"hour_of_week\"])\n",
      "/home/david/anaconda3/envs/nmec/lib/python3.9/site-packages/eemeter/features.py:576: FutureWarning: The default of observed=False is deprecated and will be changed to True in a future version of pandas. Pass observed=False to retain current behavior or observed=True to adopt the future default and silence this warning.\n",
      "  model_data_with_residuals.groupby([\"hour_of_week\"])\n",
      "/home/david/anaconda3/envs/nmec/lib/python3.9/site-packages/eemeter/features.py:576: FutureWarning: The default of observed=False is deprecated and will be changed to True in a future version of pandas. Pass observed=False to retain current behavior or observed=True to adopt the future default and silence this warning.\n",
      "  model_data_with_residuals.groupby([\"hour_of_week\"])\n",
      "/home/david/anaconda3/envs/nmec/lib/python3.9/site-packages/eemeter/features.py:576: FutureWarning: The default of observed=False is deprecated and will be changed to True in a future version of pandas. Pass observed=False to retain current behavior or observed=True to adopt the future default and silence this warning.\n",
      "  model_data_with_residuals.groupby([\"hour_of_week\"])\n",
      "/home/david/anaconda3/envs/nmec/lib/python3.9/site-packages/eemeter/features.py:576: FutureWarning: The default of observed=False is deprecated and will be changed to True in a future version of pandas. Pass observed=False to retain current behavior or observed=True to adopt the future default and silence this warning.\n",
      "  model_data_with_residuals.groupby([\"hour_of_week\"])\n",
      "/home/david/anaconda3/envs/nmec/lib/python3.9/site-packages/eemeter/features.py:576: FutureWarning: The default of observed=False is deprecated and will be changed to True in a future version of pandas. Pass observed=False to retain current behavior or observed=True to adopt the future default and silence this warning.\n",
      "  model_data_with_residuals.groupby([\"hour_of_week\"])\n",
      "/home/david/anaconda3/envs/nmec/lib/python3.9/site-packages/eemeter/features.py:576: FutureWarning: The default of observed=False is deprecated and will be changed to True in a future version of pandas. Pass observed=False to retain current behavior or observed=True to adopt the future default and silence this warning.\n",
      "  model_data_with_residuals.groupby([\"hour_of_week\"])\n"
     ]
    }
   ],
   "source": [
    "# assign an occupancy status to each hour of the week (0-167)\n",
    "occupancy_lookup = eemeter.estimate_hour_of_week_occupancy(\n",
    "    preliminary_design_matrix,\n",
    "    segmentation=segmentation,\n",
    ")"
   ]
  },
  {
   "cell_type": "code",
   "execution_count": 110,
   "metadata": {},
   "outputs": [
    {
     "data": {
      "text/html": [
       "<div>\n",
       "<style scoped>\n",
       "    .dataframe tbody tr th:only-of-type {\n",
       "        vertical-align: middle;\n",
       "    }\n",
       "\n",
       "    .dataframe tbody tr th {\n",
       "        vertical-align: top;\n",
       "    }\n",
       "\n",
       "    .dataframe thead th {\n",
       "        text-align: right;\n",
       "    }\n",
       "</style>\n",
       "<table border=\"1\" class=\"dataframe\">\n",
       "  <thead>\n",
       "    <tr style=\"text-align: right;\">\n",
       "      <th></th>\n",
       "      <th>dec-jan-feb-weighted</th>\n",
       "      <th>jan-feb-mar-weighted</th>\n",
       "      <th>feb-mar-apr-weighted</th>\n",
       "      <th>mar-apr-may-weighted</th>\n",
       "      <th>apr-may-jun-weighted</th>\n",
       "      <th>may-jun-jul-weighted</th>\n",
       "      <th>jun-jul-aug-weighted</th>\n",
       "      <th>jul-aug-sep-weighted</th>\n",
       "      <th>aug-sep-oct-weighted</th>\n",
       "      <th>sep-oct-nov-weighted</th>\n",
       "      <th>oct-nov-dec-weighted</th>\n",
       "      <th>nov-dec-jan-weighted</th>\n",
       "    </tr>\n",
       "  </thead>\n",
       "  <tbody>\n",
       "    <tr>\n",
       "      <th>0</th>\n",
       "      <td>True</td>\n",
       "      <td>True</td>\n",
       "      <td>True</td>\n",
       "      <td>True</td>\n",
       "      <td>True</td>\n",
       "      <td>False</td>\n",
       "      <td>False</td>\n",
       "      <td>False</td>\n",
       "      <td>False</td>\n",
       "      <td>False</td>\n",
       "      <td>False</td>\n",
       "      <td>True</td>\n",
       "    </tr>\n",
       "    <tr>\n",
       "      <th>1</th>\n",
       "      <td>False</td>\n",
       "      <td>True</td>\n",
       "      <td>True</td>\n",
       "      <td>True</td>\n",
       "      <td>True</td>\n",
       "      <td>False</td>\n",
       "      <td>False</td>\n",
       "      <td>False</td>\n",
       "      <td>False</td>\n",
       "      <td>False</td>\n",
       "      <td>False</td>\n",
       "      <td>False</td>\n",
       "    </tr>\n",
       "    <tr>\n",
       "      <th>2</th>\n",
       "      <td>False</td>\n",
       "      <td>True</td>\n",
       "      <td>True</td>\n",
       "      <td>True</td>\n",
       "      <td>False</td>\n",
       "      <td>False</td>\n",
       "      <td>False</td>\n",
       "      <td>False</td>\n",
       "      <td>False</td>\n",
       "      <td>True</td>\n",
       "      <td>False</td>\n",
       "      <td>False</td>\n",
       "    </tr>\n",
       "    <tr>\n",
       "      <th>3</th>\n",
       "      <td>False</td>\n",
       "      <td>False</td>\n",
       "      <td>True</td>\n",
       "      <td>False</td>\n",
       "      <td>False</td>\n",
       "      <td>False</td>\n",
       "      <td>False</td>\n",
       "      <td>False</td>\n",
       "      <td>False</td>\n",
       "      <td>False</td>\n",
       "      <td>False</td>\n",
       "      <td>False</td>\n",
       "    </tr>\n",
       "    <tr>\n",
       "      <th>4</th>\n",
       "      <td>False</td>\n",
       "      <td>False</td>\n",
       "      <td>False</td>\n",
       "      <td>False</td>\n",
       "      <td>False</td>\n",
       "      <td>False</td>\n",
       "      <td>False</td>\n",
       "      <td>False</td>\n",
       "      <td>False</td>\n",
       "      <td>False</td>\n",
       "      <td>False</td>\n",
       "      <td>False</td>\n",
       "    </tr>\n",
       "    <tr>\n",
       "      <th>...</th>\n",
       "      <td>...</td>\n",
       "      <td>...</td>\n",
       "      <td>...</td>\n",
       "      <td>...</td>\n",
       "      <td>...</td>\n",
       "      <td>...</td>\n",
       "      <td>...</td>\n",
       "      <td>...</td>\n",
       "      <td>...</td>\n",
       "      <td>...</td>\n",
       "      <td>...</td>\n",
       "      <td>...</td>\n",
       "    </tr>\n",
       "    <tr>\n",
       "      <th>163</th>\n",
       "      <td>False</td>\n",
       "      <td>False</td>\n",
       "      <td>False</td>\n",
       "      <td>False</td>\n",
       "      <td>False</td>\n",
       "      <td>False</td>\n",
       "      <td>False</td>\n",
       "      <td>False</td>\n",
       "      <td>False</td>\n",
       "      <td>False</td>\n",
       "      <td>False</td>\n",
       "      <td>False</td>\n",
       "    </tr>\n",
       "    <tr>\n",
       "      <th>164</th>\n",
       "      <td>False</td>\n",
       "      <td>False</td>\n",
       "      <td>False</td>\n",
       "      <td>False</td>\n",
       "      <td>False</td>\n",
       "      <td>True</td>\n",
       "      <td>True</td>\n",
       "      <td>False</td>\n",
       "      <td>False</td>\n",
       "      <td>False</td>\n",
       "      <td>False</td>\n",
       "      <td>False</td>\n",
       "    </tr>\n",
       "    <tr>\n",
       "      <th>165</th>\n",
       "      <td>False</td>\n",
       "      <td>False</td>\n",
       "      <td>False</td>\n",
       "      <td>False</td>\n",
       "      <td>False</td>\n",
       "      <td>True</td>\n",
       "      <td>True</td>\n",
       "      <td>False</td>\n",
       "      <td>False</td>\n",
       "      <td>False</td>\n",
       "      <td>True</td>\n",
       "      <td>False</td>\n",
       "    </tr>\n",
       "    <tr>\n",
       "      <th>166</th>\n",
       "      <td>False</td>\n",
       "      <td>False</td>\n",
       "      <td>True</td>\n",
       "      <td>True</td>\n",
       "      <td>True</td>\n",
       "      <td>False</td>\n",
       "      <td>True</td>\n",
       "      <td>False</td>\n",
       "      <td>False</td>\n",
       "      <td>False</td>\n",
       "      <td>False</td>\n",
       "      <td>False</td>\n",
       "    </tr>\n",
       "    <tr>\n",
       "      <th>167</th>\n",
       "      <td>True</td>\n",
       "      <td>True</td>\n",
       "      <td>True</td>\n",
       "      <td>True</td>\n",
       "      <td>True</td>\n",
       "      <td>False</td>\n",
       "      <td>False</td>\n",
       "      <td>False</td>\n",
       "      <td>True</td>\n",
       "      <td>True</td>\n",
       "      <td>True</td>\n",
       "      <td>True</td>\n",
       "    </tr>\n",
       "  </tbody>\n",
       "</table>\n",
       "<p>168 rows × 12 columns</p>\n",
       "</div>"
      ],
      "text/plain": [
       "     dec-jan-feb-weighted  jan-feb-mar-weighted  feb-mar-apr-weighted  \\\n",
       "0                    True                  True                  True   \n",
       "1                   False                  True                  True   \n",
       "2                   False                  True                  True   \n",
       "3                   False                 False                  True   \n",
       "4                   False                 False                 False   \n",
       "..                    ...                   ...                   ...   \n",
       "163                 False                 False                 False   \n",
       "164                 False                 False                 False   \n",
       "165                 False                 False                 False   \n",
       "166                 False                 False                  True   \n",
       "167                  True                  True                  True   \n",
       "\n",
       "     mar-apr-may-weighted  apr-may-jun-weighted  may-jun-jul-weighted  \\\n",
       "0                    True                  True                 False   \n",
       "1                    True                  True                 False   \n",
       "2                    True                 False                 False   \n",
       "3                   False                 False                 False   \n",
       "4                   False                 False                 False   \n",
       "..                    ...                   ...                   ...   \n",
       "163                 False                 False                 False   \n",
       "164                 False                 False                  True   \n",
       "165                 False                 False                  True   \n",
       "166                  True                  True                 False   \n",
       "167                  True                  True                 False   \n",
       "\n",
       "     jun-jul-aug-weighted  jul-aug-sep-weighted  aug-sep-oct-weighted  \\\n",
       "0                   False                 False                 False   \n",
       "1                   False                 False                 False   \n",
       "2                   False                 False                 False   \n",
       "3                   False                 False                 False   \n",
       "4                   False                 False                 False   \n",
       "..                    ...                   ...                   ...   \n",
       "163                 False                 False                 False   \n",
       "164                  True                 False                 False   \n",
       "165                  True                 False                 False   \n",
       "166                  True                 False                 False   \n",
       "167                 False                 False                  True   \n",
       "\n",
       "     sep-oct-nov-weighted  oct-nov-dec-weighted  nov-dec-jan-weighted  \n",
       "0                   False                 False                  True  \n",
       "1                   False                 False                 False  \n",
       "2                    True                 False                 False  \n",
       "3                   False                 False                 False  \n",
       "4                   False                 False                 False  \n",
       "..                    ...                   ...                   ...  \n",
       "163                 False                 False                 False  \n",
       "164                 False                 False                 False  \n",
       "165                 False                  True                 False  \n",
       "166                 False                 False                 False  \n",
       "167                  True                  True                  True  \n",
       "\n",
       "[168 rows x 12 columns]"
      ]
     },
     "execution_count": 110,
     "metadata": {},
     "output_type": "execute_result"
    }
   ],
   "source": [
    "occupancy_lookup"
   ]
  },
  {
   "cell_type": "code",
   "execution_count": 111,
   "metadata": {},
   "outputs": [
    {
     "name": "stderr",
     "output_type": "stream",
     "text": [
      "/home/david/anaconda3/envs/nmec/lib/python3.9/site-packages/eemeter/features.py:638: FutureWarning: The default of observed=False is deprecated and will be changed to True in a future version of pandas. Pass observed=False to retain current behavior or observed=True to adopt the future default and silence this warning.\n",
      "  pd.DataFrame({\"temp\": temperature_data, \"bin\": temp_bins})\n",
      "/home/david/anaconda3/envs/nmec/lib/python3.9/site-packages/eemeter/features.py:638: FutureWarning: The default of observed=False is deprecated and will be changed to True in a future version of pandas. Pass observed=False to retain current behavior or observed=True to adopt the future default and silence this warning.\n",
      "  pd.DataFrame({\"temp\": temperature_data, \"bin\": temp_bins})\n",
      "/home/david/anaconda3/envs/nmec/lib/python3.9/site-packages/eemeter/features.py:638: FutureWarning: The default of observed=False is deprecated and will be changed to True in a future version of pandas. Pass observed=False to retain current behavior or observed=True to adopt the future default and silence this warning.\n",
      "  pd.DataFrame({\"temp\": temperature_data, \"bin\": temp_bins})\n",
      "/home/david/anaconda3/envs/nmec/lib/python3.9/site-packages/eemeter/features.py:638: FutureWarning: The default of observed=False is deprecated and will be changed to True in a future version of pandas. Pass observed=False to retain current behavior or observed=True to adopt the future default and silence this warning.\n",
      "  pd.DataFrame({\"temp\": temperature_data, \"bin\": temp_bins})\n",
      "/home/david/anaconda3/envs/nmec/lib/python3.9/site-packages/eemeter/features.py:638: FutureWarning: The default of observed=False is deprecated and will be changed to True in a future version of pandas. Pass observed=False to retain current behavior or observed=True to adopt the future default and silence this warning.\n",
      "  pd.DataFrame({\"temp\": temperature_data, \"bin\": temp_bins})\n",
      "/home/david/anaconda3/envs/nmec/lib/python3.9/site-packages/eemeter/features.py:638: FutureWarning: The default of observed=False is deprecated and will be changed to True in a future version of pandas. Pass observed=False to retain current behavior or observed=True to adopt the future default and silence this warning.\n",
      "  pd.DataFrame({\"temp\": temperature_data, \"bin\": temp_bins})\n",
      "/home/david/anaconda3/envs/nmec/lib/python3.9/site-packages/eemeter/features.py:638: FutureWarning: The default of observed=False is deprecated and will be changed to True in a future version of pandas. Pass observed=False to retain current behavior or observed=True to adopt the future default and silence this warning.\n",
      "  pd.DataFrame({\"temp\": temperature_data, \"bin\": temp_bins})\n",
      "/home/david/anaconda3/envs/nmec/lib/python3.9/site-packages/eemeter/features.py:638: FutureWarning: The default of observed=False is deprecated and will be changed to True in a future version of pandas. Pass observed=False to retain current behavior or observed=True to adopt the future default and silence this warning.\n",
      "  pd.DataFrame({\"temp\": temperature_data, \"bin\": temp_bins})\n",
      "/home/david/anaconda3/envs/nmec/lib/python3.9/site-packages/eemeter/features.py:638: FutureWarning: The default of observed=False is deprecated and will be changed to True in a future version of pandas. Pass observed=False to retain current behavior or observed=True to adopt the future default and silence this warning.\n",
      "  pd.DataFrame({\"temp\": temperature_data, \"bin\": temp_bins})\n",
      "/home/david/anaconda3/envs/nmec/lib/python3.9/site-packages/eemeter/features.py:638: FutureWarning: The default of observed=False is deprecated and will be changed to True in a future version of pandas. Pass observed=False to retain current behavior or observed=True to adopt the future default and silence this warning.\n",
      "  pd.DataFrame({\"temp\": temperature_data, \"bin\": temp_bins})\n",
      "/home/david/anaconda3/envs/nmec/lib/python3.9/site-packages/eemeter/features.py:638: FutureWarning: The default of observed=False is deprecated and will be changed to True in a future version of pandas. Pass observed=False to retain current behavior or observed=True to adopt the future default and silence this warning.\n",
      "  pd.DataFrame({\"temp\": temperature_data, \"bin\": temp_bins})\n",
      "/home/david/anaconda3/envs/nmec/lib/python3.9/site-packages/eemeter/features.py:638: FutureWarning: The default of observed=False is deprecated and will be changed to True in a future version of pandas. Pass observed=False to retain current behavior or observed=True to adopt the future default and silence this warning.\n",
      "  pd.DataFrame({\"temp\": temperature_data, \"bin\": temp_bins})\n"
     ]
    }
   ],
   "source": [
    "# assign temperatures to bins\n",
    "occupied_temperature_bins, unoccupied_temperature_bins = eemeter.fit_temperature_bins(\n",
    "    preliminary_design_matrix,\n",
    "    segmentation=segmentation,\n",
    "    occupancy_lookup=occupancy_lookup,\n",
    ")"
   ]
  },
  {
   "cell_type": "code",
   "execution_count": 112,
   "metadata": {},
   "outputs": [],
   "source": [
    "# build a design matrix for each monthly segment\n",
    "segmented_design_matrices = (\n",
    "    eemeter.create_caltrack_hourly_segmented_design_matrices(\n",
    "        preliminary_design_matrix,\n",
    "        segmentation,\n",
    "        occupancy_lookup,\n",
    "        occupied_temperature_bins,\n",
    "        unoccupied_temperature_bins,\n",
    "    )\n",
    ")"
   ]
  },
  {
   "cell_type": "code",
   "execution_count": 113,
   "metadata": {},
   "outputs": [],
   "source": [
    "# build a CalTRACK hourly model\n",
    "baseline_model = eemeter.fit_caltrack_hourly_model(\n",
    "    segmented_design_matrices,\n",
    "    occupancy_lookup,\n",
    "    occupied_temperature_bins,\n",
    "    unoccupied_temperature_bins,\n",
    ")\n"
   ]
  },
  {
   "cell_type": "code",
   "execution_count": 144,
   "metadata": {},
   "outputs": [
    {
     "data": {
      "text/plain": [
       "datetime64[ns, America/Chicago]"
      ]
     },
     "execution_count": 144,
     "metadata": {},
     "output_type": "execute_result"
    }
   ],
   "source": [
    "aust_base.index.dtype"
   ]
  },
  {
   "cell_type": "code",
   "execution_count": 157,
   "metadata": {},
   "outputs": [],
   "source": [
    "# use the in-program meter data\n",
    "in_meter = pd.read_csv('data/program_baseline_daily/in_prog_mean.csv')\n",
    "in_meter = in_meter[['datetime', 'total']].rename(columns={'total': 'value'})\n",
    "in_meter['datetime'] = pd.to_datetime(in_meter['datetime'])\n",
    "in_meter.set_index('datetime', inplace=True)"
   ]
  },
  {
   "cell_type": "code",
   "execution_count": 158,
   "metadata": {},
   "outputs": [],
   "source": [
    "in_meter.index = in_meter.index.tz_localize('America/Chicago', ambiguous=False)"
   ]
  },
  {
   "cell_type": "code",
   "execution_count": 159,
   "metadata": {},
   "outputs": [],
   "source": [
    "in_meter = in_meter.asfreq('H')"
   ]
  },
  {
   "cell_type": "code",
   "execution_count": 160,
   "metadata": {},
   "outputs": [],
   "source": [
    "# get a year of reporting period data\n",
    "reporting_meter_data, warnings = eemeter.get_reporting_data(\n",
    "    in_meter, start=datetime.datetime(2018, 1, 1, 0, 0, 0, tzinfo=austin_tz), max_days=365\n",
    ")"
   ]
  },
  {
   "cell_type": "code",
   "execution_count": 161,
   "metadata": {},
   "outputs": [],
   "source": [
    "# compute metered savings for the year of the reporting period we've selected\n",
    "metered_savings_dataframe, error_bands = eemeter.metered_savings(\n",
    "    baseline_model, reporting_meter_data,\n",
    "    temperature_data, with_disaggregated=True\n",
    ")\n",
    "\n",
    "# total metered savings\n",
    "total_metered_savings = metered_savings_dataframe.metered_savings.sum()"
   ]
  },
  {
   "cell_type": "code",
   "execution_count": 162,
   "metadata": {},
   "outputs": [
    {
     "data": {
      "text/plain": [
       "6093.780180329397"
      ]
     },
     "execution_count": 162,
     "metadata": {},
     "output_type": "execute_result"
    }
   ],
   "source": [
    "total_metered_savings"
   ]
  },
  {
   "cell_type": "code",
   "execution_count": null,
   "metadata": {},
   "outputs": [],
   "source": []
  }
 ],
 "metadata": {
  "kernelspec": {
   "display_name": "nmec",
   "language": "python",
   "name": "python3"
  },
  "language_info": {
   "codemirror_mode": {
    "name": "ipython",
    "version": 3
   },
   "file_extension": ".py",
   "mimetype": "text/x-python",
   "name": "python",
   "nbconvert_exporter": "python",
   "pygments_lexer": "ipython3",
   "version": "3.9.18"
  }
 },
 "nbformat": 4,
 "nbformat_minor": 2
}
